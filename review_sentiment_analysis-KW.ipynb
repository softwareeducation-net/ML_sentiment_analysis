{
 "cells": [
  {
   "cell_type": "markdown",
   "metadata": {},
   "source": [
    "# Walk-Through: Create a Machine Learning Algorithm\n",
    "In this walk through, we will look at the steps used to create a Python script that can analyze a dataset of product reviews and intelligently determine whether a given review is positive or negative, based on the words used in the review.\n",
    "\n",
    "This activity uses the 5-core Electronics dataset from Julian McCauley's <a href=\"http://jmcauley.ucsd.edu/data/amazon/\" target=\"_blank\">Amazon review data</a>. \n",
    "\n",
    "Each record includes data about the user who posted the data, what product is being reviewed, the text of the review, and whether the review is negative or positive. As an example:\n",
    "\n",
    "    {\n",
    "      \"reviewerID\": \"A2SUAM1J3GNN3B\",\n",
    "      \"asin\": \"0000013714\",\n",
    "      \"reviewerName\": \"J. McDonald\",\n",
    "      \"helpful\": [2, 3],\n",
    "      \"reviewText\": \"I bought this for my husband who plays the piano.  He is having a wonderful time playing these old hymns.  The music  is at times hard to read because we think the book was published for singing from more than playing from.  Great purchase though!\",\n",
    "      \"overall\": 5.0,\n",
    "      \"summary\": \"Heavenly Highway Hymns\",\n",
    "      \"unixReviewTime\": 1252800000,\n",
    "      \"reviewTime\": \"09 13, 2009\"\n",
    "    }\n",
    "\n",
    "The `overall` value is a range of 1 to 5, and we are using it as a label to determine whether the review is negative or positive. Specifically, a review of 1 or 2 is Negative and a review of 5 is Positive."
   ]
  },
  {
   "cell_type": "markdown",
   "metadata": {},
   "source": [
    "## Step 0\n",
    "Before we can build the script, we need to include Python packages that we will use to create the algorithm, incluing:\n",
    "* `nltk`: The Natural Language Toolkit, which we use to process and analyze the text\n",
    "* `tensorflow`: Supports machine learning\n",
    "* `NumPy`: Used to organize data in arrays\n"
   ]
  },
  {
   "cell_type": "code",
   "execution_count": 1,
   "metadata": {},
   "outputs": [
    {
     "name": "stdout",
     "output_type": "stream",
     "text": [
      "Ready\n"
     ]
    }
   ],
   "source": [
    "# load appropriate packages \n",
    "import nltk\n",
    "import tensorflow as tf\n",
    "from tensorflow import keras\n",
    "import numpy as np\n",
    "print(\"Ready\")"
   ]
  },
  {
   "cell_type": "markdown",
   "metadata": {},
   "source": [
    "## Step 1: Import the Data\n",
    "Once Python is set up, we are ready to retrieve data stored in a JSON file to use in our machine learning algorithm.\n",
    "\n",
    "We will pull two separate sets of data: one with negative (1- or 2-star ratings) reviews and one with positive (5-star) reviews. In addition, we want each dataset to have the same number of records, so that the algorithm isn't overwhelmed with a high percentage of either type of review.\n",
    "\n",
    "We import 50,000 negative reviews to a list named `dataset1`.\n",
    "\n",
    "We import 50,000 positive reviews to a list named `dataset2`."
   ]
  },
  {
   "cell_type": "code",
   "execution_count": 2,
   "metadata": {},
   "outputs": [
    {
     "name": "stdout",
     "output_type": "stream",
     "text": [
      "25000\n",
      "25000\n",
      "{'reviewerID': 'AO94DHGC771SJ', 'asin': '0528881469', 'reviewerName': 'amazdnu', 'helpful': [0, 0], 'reviewText': 'We got this GPS for my husband who is an (OTR) over the road trucker.  Very Impressed with the shipping time, it arrived a few days earlier than expected...  within a week of use however it started freezing up... could of just been a glitch in that unit.  Worked great when it worked!  Will work great for the normal person as well but does have the \"trucker\" option. (the big truck routes - tells you when a scale is coming up ect...)  Love the bigger screen, the ease of use, the ease of putting addresses into memory.  Nothing really bad to say about the unit with the exception of it freezing which is probably one in a million and that\\'s just my luck.  I contacted the seller and within minutes of my email I received a email back with instructions for an exchange! VERY impressed all the way around!', 'overall': 5.0, 'summary': 'Gotta have GPS!', 'unixReviewTime': 1370131200, 'reviewTime': '06 2, 2013'}\n",
      "{'reviewerID': 'AMO214LNFCEI4', 'asin': '0528881469', 'reviewerName': 'Amazon Customer', 'helpful': [12, 15], 'reviewText': 'I\\'m a professional OTR truck driver, and I bought a TND 700 at a truck stop hoping to make my life easier.  Rand McNally, are you listening?First thing I did after charging it was connect it to my laptop and install the software and then attempt to update it.  The software detected a problem with my update and wanted my home address so I could be sent a patch on an SD card.  Hello?  I don\\'t think I\\'m all that unusual; my home address is a PO box that a friend checks weekly and that I might get to check every six months or so.  I live in my truck and at truck stops.  If you need to make a patch available on an SD card then you should send the SD cards to the truck stops where the devices are sold.  I ran the update program multiple times until the program said that the TND 700 was completely updated.I programmed in the height (13\\'6\"), the length (53\\') and the weight (80,000#) of my rig and told it that I preferred highways.  I was parked at a truck stop in the Cincinnati OH area.  My next pickup was about 15 miles down the same freeway but on the other side of it a couple of blocks.  My cell phone GPS (Sprint) said to get on the freeway to get to my pickup.  The TND 700 routed me thru 23 miles of residential streets before finally getting me to my pickup.  Very exciting, especially since every time I refused to turn down a street posted \"No Trucks\" the TND 700 took almost 5 minutes to figure a re-route, and it happened multiple times on that short trip.I decided to give it another chance.  After my pickup on the north side of Cincinnati just off of I-75 I needed to head to Phoenix AZ via I-71.  Easy route is to just hop on I-75 and drive west and south to the intersection of I-71.  Indeed, that is what my cell phone advised.  The TND 700, however, wanted to route me over surface streets across the city and pick up I-75 on the other side of the city.  I turned it off and the next time I passed a truck stop of the same chain I purchased it at I returned it and got my money back.I then spent $30 on a cheap printer.  Now I take a minute to set up my route on Google and print it out.  Hasn\\'t gotten me lost yet over several cross country trips.', 'overall': 1.0, 'summary': 'Very Disappointed', 'unixReviewTime': 1290643200, 'reviewTime': '11 25, 2010'}\n",
      "{'reviewerID': 'AO94DHGC771SJ', 'asin': '0528881469', 'reviewerName': 'amazdnu', 'helpful': [0, 0], 'reviewText': 'We got this GPS for my husband who is an (OTR) over the road trucker.  Very Impressed with the shipping time, it arrived a few days earlier than expected...  within a week of use however it started freezing up... could of just been a glitch in that unit.  Worked great when it worked!  Will work great for the normal person as well but does have the \"trucker\" option. (the big truck routes - tells you when a scale is coming up ect...)  Love the bigger screen, the ease of use, the ease of putting addresses into memory.  Nothing really bad to say about the unit with the exception of it freezing which is probably one in a million and that\\'s just my luck.  I contacted the seller and within minutes of my email I received a email back with instructions for an exchange! VERY impressed all the way around!', 'overall': 5.0, 'summary': 'Gotta have GPS!', 'unixReviewTime': 1370131200, 'reviewTime': '06 2, 2013'}\n"
     ]
    }
   ],
   "source": [
    "import json \n",
    "dataset= []\n",
    "dataset1 =[]\n",
    "dataset2 =[]\n",
    "num_samples = 25000\n",
    "validation_size = 5000 \n",
    "test_size=0.4\n",
    "\n",
    "file_path = \"/Users/haythembalti/Downloads/reviews_Electronics_5.json\"\n",
    "#file_path = \"/Users/haythembalti/Downloads/reviews_Amazon_Instant_Video_5.json\"\n",
    "\n",
    "with open(file_path) as data_file:\n",
    "    data=data_file.read()\n",
    "    lines = data.split(\"\\n\")\n",
    "    lines = lines[:-1] #remove last empty line\n",
    "    dataset = [json.loads(line) for line in lines] #parse each line in the JSON file into a Python dictionary \n",
    "    dataset1 = list(filter(lambda line: line['overall'] == 1 or line['overall'] == 2 , dataset))[:num_samples] #filter negative reviews\n",
    "    dataset2 = list(filter(lambda line: line[\"overall\"] == 5 , dataset))[:num_samples] #filter positive reviews\n",
    "        \n",
    "\n",
    "print(len(dataset1))\n",
    "print(len(dataset2))\n",
    "print(dataset[0])\n",
    "print(dataset1[0]) #negative review \n",
    "print(dataset2[0]) #positive review\n"
   ]
  },
  {
   "cell_type": "markdown",
   "metadata": {},
   "source": [
    "We now combine the separate datasets into a single list named `dataset`."
   ]
  },
  {
   "cell_type": "code",
   "execution_count": 3,
   "metadata": {},
   "outputs": [
    {
     "name": "stdout",
     "output_type": "stream",
     "text": [
      "Number of reviews in the dataset: 50000\n"
     ]
    }
   ],
   "source": [
    "#dataset 1: list of negative reviews \n",
    "#dataset  2: list of positive reviews \n",
    "dataset = dataset1 + dataset2\n",
    "print(\"Number of reviews in the dataset: \" + str(len(dataset)))"
   ]
  },
  {
   "cell_type": "markdown",
   "metadata": {},
   "source": [
    "## Step 2: Split the Dataset\n",
    "Right now, the dataset includes all attributes from the original reviews, including things like the reviewer's name and ID, the product ID, and when the review was posted. For our analysis, though, the only attributes that matter is the overall rating (which we can interpret as being negative or positive) and the text of the review itself.\n",
    "\n",
    "We split the dataset into two lists:\n",
    "* The first list (`dataset_labels`) will include the labels for each review, where 0 is negative and 1 is positive.\n",
    "* The second list (`dataset_text`) will include only the text from the reviewText attribute in each record.\n",
    "\n"
   ]
  },
  {
   "cell_type": "code",
   "execution_count": 4,
   "metadata": {},
   "outputs": [
    {
     "name": "stdout",
     "output_type": "stream",
     "text": [
      "Ready\n"
     ]
    }
   ],
   "source": [
    "### Split the dataset into two different lists.\n",
    "dataset_text = list()\n",
    "dataset_labels = list()\n",
    "### Iterate through the dataset\n",
    "for row in dataset:\n",
    "    if row['overall'] == 1 or row['overall'] == 2:\n",
    "        dataset_labels.append(0)\n",
    "    elif row['overall'] == 5:\n",
    "        dataset_labels.append(1)\n",
    "    else:\n",
    "        continue\n",
    "    dataset_text.append(row['reviewText'])\n",
    "print(\"Ready\")"
   ]
  },
  {
   "cell_type": "markdown",
   "metadata": {},
   "source": [
    "## Step 3: Convert Text to Integers\n",
    "Our machine learning algorithm cannot process text directly, so we need to convert the words to sequences of integers, where each integer represents a specific word in the dictionary. To this end, we will use the Keras IMDB datasets to map the reviews, and use that to create a dictionary that uses the word as a key and the index of the word's token from the `imdb.get_word_index`, which is built into the TensorFlow packages.\n",
    "\n",
    "We reserve the first four index values for padding, which will be explained in more detail later, and add 3 to the current index value for each word to create the required offset."
   ]
  },
  {
   "cell_type": "code",
   "execution_count": 5,
   "metadata": {},
   "outputs": [
    {
     "name": "stdout",
     "output_type": "stream",
     "text": [
      "Ready\n",
      "1623\n",
      "1135\n",
      "11958\n"
     ]
    }
   ],
   "source": [
    "### we use the imdb dataset' index values to map our reviews dataset\n",
    "imdb = keras.datasets.imdb\n",
    "\n",
    "# we create a word_index dictionary where the key is a word and the value is an index of that token,\n",
    "# using a prebuilt word_index dictionary from the imdb database\n",
    "word_index = imdb.get_word_index()\n",
    "\n",
    "# add these key,value pairs to the word_index dictionary for padding\n",
    "word_index[\"<PAD>\"] = 0\n",
    "word_index[\"<START>\"] = 1\n",
    "word_index[\"<UNK>\"] = 2  # unknown\n",
    "word_index[\"<UNUSED>\"] = 3\n",
    "\n",
    "# because of the padding we offset the original index values by 3\n",
    "word_index = {k:(v + 3) for k,v in word_index.items()} \n",
    "print(word_index[\"ready\"])\n",
    "print(word_index[\"walk\"])\n",
    "print(word_index[\"omg\"])\n",
    "print(\"Ready\")"
   ]
  },
  {
   "cell_type": "markdown",
   "metadata": {},
   "source": [
    "## Step 4: Tokenize the Review Text\n",
    "The next step is to tokenize the review text, a process that uses NLTK to identify the individual words in a string using spaces and punctuation marks as separators.\n",
    "\n",
    "We then process each tokenized word using the following steps:\n",
    "1. We look for the word in the word_index dictionary.\n",
    "1. If the word exists in the dictionary, we add the corresponding index value to a new list.\n",
    "1. If the word is not in the dictionary, we ignore it.\n",
    "\n",
    "For comparison, the script below outputs the original text version of the first review in the the list as well as the indexed version of that entry."
   ]
  },
  {
   "cell_type": "code",
   "execution_count": 6,
   "metadata": {
    "scrolled": true
   },
   "outputs": [
    {
     "name": "stdout",
     "output_type": "stream",
     "text": [
      "Original review:  I'm a professional OTR truck driver, and I bought a TND 700 at a truck stop hoping to make my life easier.  Rand McNally, are you listening?First thing I did after charging it was connect it to my laptop and install the software and then attempt to update it.  The software detected a problem with my update and wanted my home address so I could be sent a patch on an SD card.  Hello?  I don't think I'm all that unusual; my home address is a PO box that a friend checks weekly and that I might get to check every six months or so.  I live in my truck and at truck stops.  If you need to make a patch available on an SD card then you should send the SD cards to the truck stops where the devices are sold.  I ran the update program multiple times until the program said that the TND 700 was completely updated.I programmed in the height (13'6\"), the length (53') and the weight (80,000#) of my rig and told it that I preferred highways.  I was parked at a truck stop in the Cincinnati OH area.  My next pickup was about 15 miles down the same freeway but on the other side of it a couple of blocks.  My cell phone GPS (Sprint) said to get on the freeway to get to my pickup.  The TND 700 routed me thru 23 miles of residential streets before finally getting me to my pickup.  Very exciting, especially since every time I refused to turn down a street posted \"No Trucks\" the TND 700 took almost 5 minutes to figure a re-route, and it happened multiple times on that short trip.I decided to give it another chance.  After my pickup on the north side of Cincinnati just off of I-75 I needed to head to Phoenix AZ via I-71.  Easy route is to just hop on I-75 and drive west and south to the intersection of I-71.  Indeed, that is what my cell phone advised.  The TND 700, however, wanted to route me over surface streets across the city and pick up I-75 on the other side of the city.  I turned it off and the next time I passed a truck stop of the same chain I purchased it at I returned it and got my money back.I then spent $30 on a cheap printer.  Now I take a minute to set up my route on Google and print it out.  Hasn't gotten me lost yet over several cross country trips.\n",
      "\n",
      "Indexed  review:  [27038, 6, 1624, 2832, 2658, 5, 1247, 6, 9623, 33, 6, 2832, 570, 1383, 8, 97, 61, 113, 3425, 26, 25, 2621, 155, 122, 103, 13506, 12, 16, 3807, 12, 8, 61, 20018, 5, 24950, 4, 10869, 5, 95, 589, 8, 6940, 12, 10869, 32449, 6, 439, 19, 61, 6940, 5, 473, 61, 344, 5517, 38, 100, 30, 1412, 6, 10089, 23, 35, 3155, 81, 59139, 104, 27038, 32, 15, 1732, 61, 344, 5517, 9, 6, 953, 15, 6, 464, 10138, 7652, 5, 15, 238, 79, 8, 808, 175, 1446, 1928, 42, 38, 412, 11, 61, 2832, 5, 33, 2832, 3003, 25, 359, 8, 97, 6, 10089, 1439, 23, 35, 3155, 95, 25, 144, 2222, 4, 4320, 8, 4, 2832, 3003, 121, 4, 5363, 26, 2962, 2178, 4, 6940, 2081, 2584, 211, 366, 4, 2081, 301, 15, 4, 9623, 16, 340, 16266, 11, 4, 5673, 2001, 758, 1086, 17451, 4, 1615, 20442, 758, 5, 4, 3324, 7, 61, 18499, 5, 579, 12, 15, 5947, 38626, 16, 11995, 33, 6, 2832, 570, 11, 4, 1609, 375, 9050, 16, 44, 1119, 2064, 180, 4, 172, 16798, 21, 23, 4, 85, 499, 7, 12, 6, 378, 7, 13078, 2768, 1699, 301, 8, 79, 23, 4, 16798, 8, 79, 8, 61, 9050, 9623, 65904, 72, 4444, 6479, 2064, 7, 51121, 1986, 159, 417, 397, 72, 8, 61, 9050, 1127, 262, 237, 175, 58, 5179, 8, 471, 180, 6, 890, 5618, 17451, 4, 9623, 562, 220, 457, 234, 8, 822, 6, 5, 12, 575, 2584, 211, 23, 15, 346, 872, 8, 202, 12, 160, 580, 61, 9050, 23, 4, 2397, 499, 7, 43, 125, 7, 887, 8, 419, 8, 2864, 5734, 9, 8, 43, 4497, 23, 5, 1278, 1263, 5, 1226, 8, 4, 25376, 7, 15, 9, 51, 61, 2768, 1699, 6582, 9623, 190, 473, 8, 5734, 72, 120, 2558, 1986, 638, 4, 543, 5, 1261, 56, 23, 4, 85, 499, 7, 4, 543, 679, 12, 125, 5, 4, 375, 58, 2116, 6, 2832, 570, 7, 4, 172, 3629, 4662, 12, 33, 3782, 12, 5, 188, 61, 278, 95, 1084, 1088, 23, 6, 706, 21263, 193, 6, 786, 8, 270, 56, 61, 5734, 23, 5, 2492, 12, 46, 59139, 1840, 72, 416, 246, 120, 450, 1665, 704, 10558]\n"
     ]
    }
   ],
   "source": [
    "### Tokenize each review in the dataset \n",
    "### then map each token to an index and store the results in dataset_reviews_tokens_index\n",
    "### use the word_tokenize from the nltk package to perform a quick tokenization.\n",
    "### dataset_reviews_tokens_index is a list that will contain the list of token indexes of each reviews \n",
    "dataset_index = list()\n",
    "for text in dataset_text:\n",
    "    #tokenize each review\n",
    "    tokens = nltk.word_tokenize(text)\n",
    "    tokens_index = list()\n",
    "    #iterate through indexes\n",
    "    for token in tokens:\n",
    "        #check if token exist in word_index\n",
    "        if token in word_index:\n",
    "            # append the index of the token to the list tokens_index, \n",
    "            # which contains the list of indexes of each review\n",
    "            tokens_index.append(word_index[token])\n",
    "        #if token doesn't exist in word_index then we ignore it.  \n",
    "        else:\n",
    "            continue\n",
    "    # append the list of tokens_index to dataset_reviews_tokens_index\n",
    "    dataset_index.append(tokens_index)\n",
    "print(\"Original review:  \" + str(dataset_text[0]))\n",
    "print(\"\\nIndexed  review:  \" + str(dataset_index[0]))"
   ]
  },
  {
   "cell_type": "markdown",
   "metadata": {},
   "source": [
    "## Step 5: Truncate the Review Text\n",
    "The ML algorithm requires that each review has the same length. \n",
    "\n",
    "The following script will truncate any reviews that include more than 256 words and add padding (whose index value was defined as 0 in an earlier step) to make shorter reviews longer.\n",
    "\n",
    "We output the original indexed review and the padded review. Note that the original version of the review has 370 words, but the new version has only 256 words."
   ]
  },
  {
   "cell_type": "code",
   "execution_count": 7,
   "metadata": {
    "scrolled": true
   },
   "outputs": [
    {
     "name": "stdout",
     "output_type": "stream",
     "text": [
      "This review has 373 words.\n",
      "Indexed review:  [27038, 6, 1624, 2832, 2658, 5, 1247, 6, 9623, 33, 6, 2832, 570, 1383, 8, 97, 61, 113, 3425, 26, 25, 2621, 155, 122, 103, 13506, 12, 16, 3807, 12, 8, 61, 20018, 5, 24950, 4, 10869, 5, 95, 589, 8, 6940, 12, 10869, 32449, 6, 439, 19, 61, 6940, 5, 473, 61, 344, 5517, 38, 100, 30, 1412, 6, 10089, 23, 35, 3155, 81, 59139, 104, 27038, 32, 15, 1732, 61, 344, 5517, 9, 6, 953, 15, 6, 464, 10138, 7652, 5, 15, 238, 79, 8, 808, 175, 1446, 1928, 42, 38, 412, 11, 61, 2832, 5, 33, 2832, 3003, 25, 359, 8, 97, 6, 10089, 1439, 23, 35, 3155, 95, 25, 144, 2222, 4, 4320, 8, 4, 2832, 3003, 121, 4, 5363, 26, 2962, 2178, 4, 6940, 2081, 2584, 211, 366, 4, 2081, 301, 15, 4, 9623, 16, 340, 16266, 11, 4, 5673, 2001, 758, 1086, 17451, 4, 1615, 20442, 758, 5, 4, 3324, 7, 61, 18499, 5, 579, 12, 15, 5947, 38626, 16, 11995, 33, 6, 2832, 570, 11, 4, 1609, 375, 9050, 16, 44, 1119, 2064, 180, 4, 172, 16798, 21, 23, 4, 85, 499, 7, 12, 6, 378, 7, 13078, 2768, 1699, 301, 8, 79, 23, 4, 16798, 8, 79, 8, 61, 9050, 9623, 65904, 72, 4444, 6479, 2064, 7, 51121, 1986, 159, 417, 397, 72, 8, 61, 9050, 1127, 262, 237, 175, 58, 5179, 8, 471, 180, 6, 890, 5618, 17451, 4, 9623, 562, 220, 457, 234, 8, 822, 6, 5, 12, 575, 2584, 211, 23, 15, 346, 872, 8, 202, 12, 160, 580, 61, 9050, 23, 4, 2397, 499, 7, 43, 125, 7, 887, 8, 419, 8, 2864, 5734, 9, 8, 43, 4497, 23, 5, 1278, 1263, 5, 1226, 8, 4, 25376, 7, 15, 9, 51, 61, 2768, 1699, 6582, 9623, 190, 473, 8, 5734, 72, 120, 2558, 1986, 638, 4, 543, 5, 1261, 56, 23, 4, 85, 499, 7, 4, 543, 679, 12, 125, 5, 4, 375, 58, 2116, 6, 2832, 570, 7, 4, 172, 3629, 4662, 12, 33, 3782, 12, 5, 188, 61, 278, 95, 1084, 1088, 23, 6, 706, 21263, 193, 6, 786, 8, 270, 56, 61, 5734, 23, 5, 2492, 12, 46, 59139, 1840, 72, 416, 246, 120, 450, 1665, 704, 10558]\n",
      "\n",
      "This review has 256 words.\n",
      "Padded review:  [    8     4  2832  3003   121     4  5363    26  2962  2178     4  6940\n",
      "  2081  2584   211   366     4  2081   301    15     4  9623    16   340\n",
      " 16266    11     4  5673  2001   758  1086 17451     4  1615 20442   758\n",
      "     5     4  3324     7    61 18499     5   579    12    15  5947 38626\n",
      "    16 11995    33     6  2832   570    11     4  1609   375  9050    16\n",
      "    44  1119  2064   180     4   172 16798    21    23     4    85   499\n",
      "     7    12     6   378     7 13078  2768  1699   301     8    79    23\n",
      "     4 16798     8    79     8    61  9050  9623 65904    72  4444  6479\n",
      "  2064     7 51121  1986   159   417   397    72     8    61  9050  1127\n",
      "   262   237   175    58  5179     8   471   180     6   890  5618 17451\n",
      "     4  9623   562   220   457   234     8   822     6     5    12   575\n",
      "  2584   211    23    15   346   872     8   202    12   160   580    61\n",
      "  9050    23     4  2397   499     7    43   125     7   887     8   419\n",
      "     8  2864  5734     9     8    43  4497    23     5  1278  1263     5\n",
      "  1226     8     4 25376     7    15     9    51    61  2768  1699  6582\n",
      "  9623   190   473     8  5734    72   120  2558  1986   638     4   543\n",
      "     5  1261    56    23     4    85   499     7     4   543   679    12\n",
      "   125     5     4   375    58  2116     6  2832   570     7     4   172\n",
      "  3629  4662    12    33  3782    12     5   188    61   278    95  1084\n",
      "  1088    23     6   706 21263   193     6   786     8   270    56    61\n",
      "  5734    23     5  2492    12    46 59139  1840    72   416   246   120\n",
      "   450  1665   704 10558]\n"
     ]
    }
   ],
   "source": [
    "dataset_padded = keras.preprocessing.sequence.pad_sequences(dataset_index,\n",
    "                                                        value=word_index[\"<PAD>\"],\n",
    "                                                        padding='post',\n",
    "                                                        maxlen=256)\n",
    "\n",
    "print(\"This review has \" + str(len(dataset_index[0])) + \" words.\")\n",
    "print(\"Indexed review:  \" + str(dataset_index[0]))\n",
    "\n",
    "print(\"\\nThis review has \" + str(len(dataset_padded[0])) + \" words.\")\n",
    "print(\"Padded review:  \" + str(dataset_padded[0]))"
   ]
  },
  {
   "cell_type": "markdown",
   "metadata": {},
   "source": [
    "## Step 6: Create the Training and Testing Datasets\n",
    "A basic part of machine learning is to create two different datasets: one that will train the algorithm and the other that can test the accuracy of the predictions. \n",
    "\n",
    "A ratio of 70% learning data and 30% testing data is generally recommended. \n",
    "In the code, we use scikit-learn to split the data into four separate lists:\n",
    "* `train_x`: a list that contains the training data\n",
    "* `test_x`: a list that contains the testing data\n",
    "* `train_y`: a list that contains labels of the training data\n",
    "* `test_y`: a list that contains labels of the testing data"
   ]
  },
  {
   "cell_type": "code",
   "execution_count": 8,
   "metadata": {},
   "outputs": [
    {
     "name": "stdout",
     "output_type": "stream",
     "text": [
      "Ready\n"
     ]
    }
   ],
   "source": [
    "### Split data into training and testing data using the sklearn package\n",
    "from sklearn.model_selection import train_test_split\n",
    "train_x, test_x, train_y, test_y = train_test_split(dataset_padded, dataset_labels, test_size=test_size)\n",
    "print(\"Ready\")"
   ]
  },
  {
   "cell_type": "markdown",
   "metadata": {},
   "source": [
    "## Step 7: Training\n",
    "Now we are ready to start the training processes. \n",
    "\n",
    "For the training, we will use the full vocabulary list from `word_index`. We will then use the Keras API to define the training model we want to use. This model includes the following layers:\n",
    "* an input layer\n",
    "* a pooling layer, which down samples the dataset into average values\n",
    "* a dense layer, with 16 nodes\n",
    "* an ouput layer with a single node\n",
    "\n",
    "The single node in the output layer will contain the confidence level that a review is positive or negative."
   ]
  },
  {
   "cell_type": "code",
   "execution_count": 9,
   "metadata": {},
   "outputs": [
    {
     "name": "stdout",
     "output_type": "stream",
     "text": [
      "WARNING:tensorflow:From /Users/haythembalti/Anaconda/anaconda3/lib/python3.7/site-packages/tensorflow/python/keras/initializers.py:119: calling RandomUniform.__init__ (from tensorflow.python.ops.init_ops) with dtype is deprecated and will be removed in a future version.\n",
      "Instructions for updating:\n",
      "Call initializer instance with the dtype argument instead of passing it to the constructor\n",
      "WARNING:tensorflow:From /Users/haythembalti/Anaconda/anaconda3/lib/python3.7/site-packages/tensorflow/python/ops/init_ops.py:1251: calling VarianceScaling.__init__ (from tensorflow.python.ops.init_ops) with dtype is deprecated and will be removed in a future version.\n",
      "Instructions for updating:\n",
      "Call initializer instance with the dtype argument instead of passing it to the constructor\n",
      "Model: \"sequential\"\n",
      "_________________________________________________________________\n",
      "Layer (type)                 Output Shape              Param #   \n",
      "=================================================================\n",
      "embedding (Embedding)        (None, None, 16)          1417408   \n",
      "_________________________________________________________________\n",
      "global_average_pooling1d (Gl (None, 16)                0         \n",
      "_________________________________________________________________\n",
      "dense (Dense)                (None, 16)                272       \n",
      "_________________________________________________________________\n",
      "dense_1 (Dense)              (None, 1)                 17        \n",
      "=================================================================\n",
      "Total params: 1,417,697\n",
      "Trainable params: 1,417,697\n",
      "Non-trainable params: 0\n",
      "_________________________________________________________________\n"
     ]
    }
   ],
   "source": [
    "### Training \n",
    "vocab_size = 88588 \n",
    "\n",
    "### Create an empty sequential model \n",
    "model = keras.Sequential()\n",
    "\n",
    "### Add input layer\n",
    "model.add(keras.layers.Embedding(vocab_size, 16))\n",
    "\n",
    "### Add a GlobalAveragePooling1D layer to the model\n",
    "model.add(keras.layers.GlobalAveragePooling1D())\n",
    "\n",
    "### Add a Dense layer to the model with 16 nodes\n",
    "### tf.nn.relu Computes rectified linear: max(features, 0).\n",
    "model.add(keras.layers.Dense(16, activation=tf.nn.relu))\n",
    "\n",
    "### Add an output layer to the model with one single node \n",
    "### tf.nn.sigmoid Computes sigmoid of x element-wise Specifically, y = 1 / (1 + exp(-x)).\n",
    "model.add(keras.layers.Dense(1, activation=tf.nn.sigmoid))\n",
    "\n",
    "### Display the summary of the model \n",
    "model.summary()"
   ]
  },
  {
   "cell_type": "markdown",
   "metadata": {},
   "source": [
    "## Step 7: Define the Accuracy of the Model\n",
    "In this step, we define the model's accuracy, the loss function, and  the optimizer."
   ]
  },
  {
   "cell_type": "code",
   "execution_count": 10,
   "metadata": {},
   "outputs": [
    {
     "name": "stdout",
     "output_type": "stream",
     "text": [
      "Ready\n"
     ]
    }
   ],
   "source": [
    "### Define the optimizer as adam \n",
    "### Define the loss function as a mean_squared_error\n",
    "### Define the performance metric as the accuracy of the model (rate of correct guesses)\n",
    "model.compile(optimizer='adam',\n",
    "              loss='mean_squared_error',\n",
    "              metrics=['acc'])\n",
    "print(\"Ready\")"
   ]
  },
  {
   "cell_type": "markdown",
   "metadata": {},
   "source": [
    "## Step 8: Define the Validation Set\n",
    "In this step, we separate the validation data from the training data."
   ]
  },
  {
   "cell_type": "code",
   "execution_count": 11,
   "metadata": {},
   "outputs": [
    {
     "name": "stdout",
     "output_type": "stream",
     "text": [
      "Ready\n"
     ]
    }
   ],
   "source": [
    "### extract the validation set from the training set \n",
    "x_val = train_x[:validation_size]\n",
    "\n",
    "### extract the rest of the data as the training set \n",
    "partial_x_train = train_x[validation_size:]\n",
    "\n",
    "### extract the labels of the validation set from the training set \n",
    "y_val = train_y[:validation_size]\n",
    "\n",
    "### extract the rest of the labels as the training labels \n",
    "partial_y_train = train_y[validation_size:]\n",
    "\n",
    "print(\"Ready\")"
   ]
  },
  {
   "cell_type": "markdown",
   "metadata": {},
   "source": [
    "## Step 9: Run the Training Model\n",
    "Now we run the module using the training data and the validation data, for 25 epochs. \n",
    "\n",
    "The `verbose = 1` option allows us to see each epoch as it runs, including loss levels and accuracy ratings for each epoch.\n",
    "\n",
    "The accuracy levels will rise with each epoch, as the machine learns how to interpret the data."
   ]
  },
  {
   "cell_type": "code",
   "execution_count": 12,
   "metadata": {},
   "outputs": [
    {
     "name": "stdout",
     "output_type": "stream",
     "text": [
      "Train on 25000 samples, validate on 5000 samples\n",
      "Epoch 1/25\n",
      "25000/25000 [==============================] - 4s 161us/sample - loss: 0.2485 - acc: 0.5779 - val_loss: 0.2465 - val_acc: 0.6094\n",
      "Epoch 2/25\n",
      "25000/25000 [==============================] - 4s 148us/sample - loss: 0.2415 - acc: 0.6173 - val_loss: 0.2383 - val_acc: 0.6146\n",
      "Epoch 3/25\n",
      "25000/25000 [==============================] - 4s 155us/sample - loss: 0.2311 - acc: 0.6378 - val_loss: 0.2277 - val_acc: 0.6486\n",
      "Epoch 4/25\n",
      "25000/25000 [==============================] - 4s 155us/sample - loss: 0.2171 - acc: 0.6772 - val_loss: 0.2102 - val_acc: 0.7026\n",
      "Epoch 5/25\n",
      "25000/25000 [==============================] - 4s 153us/sample - loss: 0.1959 - acc: 0.7489 - val_loss: 0.1858 - val_acc: 0.7594\n",
      "Epoch 6/25\n",
      "25000/25000 [==============================] - 4s 154us/sample - loss: 0.1699 - acc: 0.8069 - val_loss: 0.1604 - val_acc: 0.8250\n",
      "Epoch 7/25\n",
      "25000/25000 [==============================] - 4s 156us/sample - loss: 0.1475 - acc: 0.8382 - val_loss: 0.1422 - val_acc: 0.8400\n",
      "Epoch 8/25\n",
      "25000/25000 [==============================] - 4s 156us/sample - loss: 0.1305 - acc: 0.8576 - val_loss: 0.1290 - val_acc: 0.8506\n",
      "Epoch 9/25\n",
      "25000/25000 [==============================] - 4s 168us/sample - loss: 0.1178 - acc: 0.8700 - val_loss: 0.1190 - val_acc: 0.8648\n",
      "Epoch 10/25\n",
      "25000/25000 [==============================] - 4s 155us/sample - loss: 0.1077 - acc: 0.8794 - val_loss: 0.1116 - val_acc: 0.8706\n",
      "Epoch 11/25\n",
      "25000/25000 [==============================] - 4s 153us/sample - loss: 0.0999 - acc: 0.8863 - val_loss: 0.1062 - val_acc: 0.8736\n",
      "Epoch 12/25\n",
      "25000/25000 [==============================] - 4s 154us/sample - loss: 0.0937 - acc: 0.8925 - val_loss: 0.1019 - val_acc: 0.8772\n",
      "Epoch 13/25\n",
      "25000/25000 [==============================] - 4s 157us/sample - loss: 0.0883 - acc: 0.8973 - val_loss: 0.0991 - val_acc: 0.8724\n",
      "Epoch 14/25\n",
      "25000/25000 [==============================] - 4s 156us/sample - loss: 0.0837 - acc: 0.9028 - val_loss: 0.0956 - val_acc: 0.8838\n",
      "Epoch 15/25\n",
      "25000/25000 [==============================] - 4s 155us/sample - loss: 0.0795 - acc: 0.9062 - val_loss: 0.0933 - val_acc: 0.8802\n",
      "Epoch 16/25\n",
      "25000/25000 [==============================] - 4s 155us/sample - loss: 0.0760 - acc: 0.9110 - val_loss: 0.0918 - val_acc: 0.8782\n",
      "Epoch 17/25\n",
      "25000/25000 [==============================] - 4s 154us/sample - loss: 0.0732 - acc: 0.9139 - val_loss: 0.0897 - val_acc: 0.8828\n",
      "Epoch 18/25\n",
      "25000/25000 [==============================] - 4s 155us/sample - loss: 0.0701 - acc: 0.9178 - val_loss: 0.0881 - val_acc: 0.8850\n",
      "Epoch 19/25\n",
      "25000/25000 [==============================] - 4s 152us/sample - loss: 0.0677 - acc: 0.9200 - val_loss: 0.0871 - val_acc: 0.8880\n",
      "Epoch 20/25\n",
      "25000/25000 [==============================] - 4s 150us/sample - loss: 0.0653 - acc: 0.9231 - val_loss: 0.0863 - val_acc: 0.8878\n",
      "Epoch 21/25\n",
      "25000/25000 [==============================] - 4s 150us/sample - loss: 0.0632 - acc: 0.9260 - val_loss: 0.0854 - val_acc: 0.8900\n",
      "Epoch 22/25\n",
      "25000/25000 [==============================] - 4s 150us/sample - loss: 0.0611 - acc: 0.9292 - val_loss: 0.0844 - val_acc: 0.8922\n",
      "Epoch 23/25\n",
      "25000/25000 [==============================] - 4s 150us/sample - loss: 0.0594 - acc: 0.9301 - val_loss: 0.0836 - val_acc: 0.8944\n",
      "Epoch 24/25\n",
      "25000/25000 [==============================] - 4s 150us/sample - loss: 0.0574 - acc: 0.9331 - val_loss: 0.0832 - val_acc: 0.8948\n",
      "Epoch 25/25\n",
      "25000/25000 [==============================] - 4s 152us/sample - loss: 0.0558 - acc: 0.9348 - val_loss: 0.0829 - val_acc: 0.8948\n"
     ]
    }
   ],
   "source": [
    "#### Run training on the training partial_x_train data \n",
    "### We provide also the validation data as input as well. \n",
    "history = model.fit(partial_x_train,\n",
    "                    partial_y_train,\n",
    "                    epochs=25,\n",
    "                    batch_size=512,\n",
    "                    validation_data=(x_val, y_val),\n",
    "                    verbose=1)"
   ]
  },
  {
   "cell_type": "markdown",
   "metadata": {},
   "source": [
    "## Step 10: Test the Model\n",
    "Finally, we run the test data through the model.\n",
    "\n",
    "The accuracy rate will be different on each run, but it should be reasonably close to the accuracy rate on the final epoch in the training model."
   ]
  },
  {
   "cell_type": "code",
   "execution_count": 13,
   "metadata": {},
   "outputs": [
    {
     "name": "stdout",
     "output_type": "stream",
     "text": [
      "20000/20000 [==============================] - 1s 27us/sample - loss: 0.0879 - acc: 0.8835\n",
      "[0.0879468368768692, 0.8835]\n"
     ]
    }
   ],
   "source": [
    "### Apply model on testing data \n",
    "results = model.evaluate(test_x, test_y)\n",
    "print(results)"
   ]
  },
  {
   "cell_type": "markdown",
   "metadata": {},
   "source": [
    "## Step 11: Visualize the Results\n",
    "We can now use the MatPlotLib Python library to generate visualizations of the training results.\n",
    "\n",
    "First, we look at the loss values for both training and validation."
   ]
  },
  {
   "cell_type": "code",
   "execution_count": 16,
   "metadata": {
    "scrolled": true
   },
   "outputs": [
    {
     "data": {
      "image/png": "[encoded data removed]",
      "text/plain": [
       "<Figure size 432x288 with 1 Axes>"
      ]
     },
     "metadata": {
      "needs_background": "light"
     },
     "output_type": "display_data"
    }
   ],
   "source": [
    "import matplotlib.pyplot as plt\n",
    "history_dict = history.history\n",
    "acc = history_dict['acc']\n",
    "val_acc = history_dict['val_acc']\n",
    "loss = history_dict['loss']\n",
    "val_loss = history_dict['val_loss']\n",
    "\n",
    "epochs = range(1, len(acc) + 1)\n",
    "plt.clf() \n",
    "plt.plot(epochs, loss, 'bo', label='Training loss')\n",
    "plt.plot(epochs, val_loss, 'b', label='Validation loss')\n",
    "plt.title('Training and validation loss')\n",
    "plt.xlabel('Epochs')\n",
    "plt.ylabel('Loss')\n",
    "plt.legend()\n",
    "plt.show()"
   ]
  },
  {
   "cell_type": "markdown",
   "metadata": {},
   "source": [
    "Finally, we look at the accuracy of the training and validation epochs."
   ]
  },
  {
   "cell_type": "code",
   "execution_count": 15,
   "metadata": {},
   "outputs": [
    {
     "data": {
      "image/png": "[encoded data removed]",
      "text/plain": [
       "<Figure size 432x288 with 1 Axes>"
      ]
     },
     "metadata": {
      "needs_background": "light"
     },
     "output_type": "display_data"
    }
   ],
   "source": [
    "plt.clf()  \n",
    "plt.plot(epochs, acc, 'bo', label='Training acc')\n",
    "plt.plot(epochs, val_acc, 'b', label='Validation acc')\n",
    "plt.title('Training and validation accuracy')\n",
    "plt.xlabel('Epochs')\n",
    "plt.ylabel('Accuracy')\n",
    "plt.legend()\n",
    "\n",
    "plt.show()"
   ]
  },
  {
   "cell_type": "code",
   "execution_count": null,
   "metadata": {},
   "outputs": [],
   "source": []
  },
  {
   "cell_type": "code",
   "execution_count": null,
   "metadata": {},
   "outputs": [],
   "source": []
  }
 ],
 "metadata": {
  "kernelspec": {
   "display_name": "Python 3",
   "language": "python",
   "name": "python3"
  },
  "language_info": {
   "codemirror_mode": {
    "name": "ipython",
    "version": 3
   },
   "file_extension": ".py",
   "mimetype": "text/x-python",
   "name": "python",
   "nbconvert_exporter": "python",
   "pygments_lexer": "ipython3",
   "version": "3.7.3"
  }
 },
 "nbformat": 4,
 "nbformat_minor": 2
}
